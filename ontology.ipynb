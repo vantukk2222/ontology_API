{
 "cells": [
  {
   "cell_type": "code",
   "execution_count": 34,
   "metadata": {},
   "outputs": [],
   "source": [
    "import os\n",
    "os.environ[\"KMP_DUPLICATE_LIB_OK\"] = \"TRUE\""
   ]
  },
  {
   "cell_type": "code",
   "execution_count": null,
   "metadata": {},
   "outputs": [
    {
     "name": "stdout",
     "output_type": "stream",
     "text": [
      "Kết quả tìm kiếm:\n",
      "label: Thương mại điện tử, elementId: 64, similarity: 0.4914\n",
      "label: Quản trị mạng, elementId: 214, similarity: 0.4574\n",
      "label: Phương pháp tính, elementId: 96, similarity: 0.4446\n",
      "label: Giao tiếp người máy, elementId: 11, similarity: 0.4414\n",
      "label: Cấu trúc máy tính và vi xử lý, elementId: 84, similarity: 0.4398\n"
     ]
    }
   ],
   "source": [
    "import torch\n",
    "from transformers import AutoTokenizer, AutoModel\n",
    "from py2neo import Graph\n",
    "import faiss\n",
    "import numpy as np\n",
    "\n",
    "# Kết nối với Neo4j và lấy dữ liệu môn học từ ontology\n",
    "neo4j_graph = Graph(\"neo4j+s://503c5eaf.databases.neo4j.io\", auth=(\"neo4j\", \"OplNn6X6ehDa3GhvqJECbHcfXSe_L9juCTK2SGuvDaQ\"), name=\"neo4j\")\n",
    "\n",
    "# Truy vấn để lấy thông tin các môn học\n",
    "query = \"\"\"\n",
    "  MATCH (ancestor:Resource {uri: 'http://localhost/ontologies/2024/10/11/edu_program#monHoc'})\n",
    "  MATCH (n:Resource)-[:rdfs__subClassOf*]->(ancestor)\n",
    "  MATCH (instance:Resource)-[:rdf__type]->(n)\n",
    "  RETURN DISTINCT instance.ns0__maMonHoc AS code, instance.rdfs__label AS label, id(instance) AS elementId\n",
    "\"\"\"\n",
    "results = neo4j_graph.run(query).data()\n",
    "\n",
    "# Khởi tạo PhoBERT để mã hóa các nhãn môn học\n",
    "device = torch.device(\"cuda\" if torch.cuda.is_available() else \"cpu\")\n",
    "tokenizer = AutoTokenizer.from_pretrained(\"vinai/phobert-base\")\n",
    "model = AutoModel.from_pretrained(\"vinai/phobert-base\").to(device)\n",
    "\n",
    "# Tạo vector biểu diễn ngữ nghĩa cho các môn học\n",
    "labels = [result['label'] for result in results]\n",
    "element_ids = [result['elementId'] for result in results]\n",
    "encoded_labels = []\n",
    "\n",
    "for label in labels:\n",
    "    inputs = tokenizer(label, return_tensors=\"pt\", truncation=True, padding=True).to(device)\n",
    "    with torch.no_grad():\n",
    "        outputs = model(**inputs)\n",
    "        embeddings = outputs.last_hidden_state.mean(dim=1).cpu().numpy()\n",
    "        encoded_labels.append(embeddings)\n",
    "\n",
    "encoded_labels = np.vstack(encoded_labels)\n",
    "\n",
    "# Lập chỉ mục và tìm kiếm với FAISS\n",
    "dimension = encoded_labels.shape[1]\n",
    "index = faiss.IndexFlatL2(dimension)\n",
    "index.add(encoded_labels)\n",
    "\n",
    "# Hàm tìm kiếm ngữ nghĩa\n",
    "def semantic_search(query, top_k=5):\n",
    "    # Mã hóa câu truy vấn\n",
    "    inputs = tokenizer(query, return_tensors=\"pt\", truncation=True, padding=True).to(device)\n",
    "    with torch.no_grad():\n",
    "        outputs = model(**inputs)\n",
    "        query_vector = outputs.last_hidden_state.mean(dim=1).cpu().numpy()\n",
    "    \n",
    "    # Tìm kiếm trong FAISS\n",
    "    distances, indices = index.search(query_vector, top_k)\n",
    "    \n",
    "    # Trả về kết quả tìm kiếm\n",
    "    results_list = []\n",
    "    for i, idx in enumerate(indices[0]):\n",
    "        result = {\n",
    "            \"label\": labels[idx],\n",
    "            \"elementId\": element_ids[idx],\n",
    "            \"similarity\": 1 / (1 + distances[0][i])\n",
    "        }\n",
    "        results_list.append(result)\n",
    "    return results_list\n",
    "\n",
    "# Ví dụ tìm kiếm\n",
    "query_text = \"môn học về an toàn thông tin\"\n",
    "search_results = semantic_search(query_text)\n",
    "\n",
    "print(\"Kết quả tìm kiếm:\")\n",
    "for result in search_results:\n",
    "    print(f\"Label: {result['label']}, ElementId: {result['elementId']}, Similarity: {result['similarity']:.4f}\")\n"
   ]
  }
 ],
 "metadata": {
  "kernelspec": {
   "display_name": "Python 3",
   "language": "python",
   "name": "python3"
  },
  "language_info": {
   "codemirror_mode": {
    "name": "ipython",
    "version": 3
   },
   "file_extension": ".py",
   "mimetype": "text/x-python",
   "name": "python",
   "nbconvert_exporter": "python",
   "pygments_lexer": "ipython3",
   "version": "3.12.0"
  }
 },
 "nbformat": 4,
 "nbformat_minor": 2
}
